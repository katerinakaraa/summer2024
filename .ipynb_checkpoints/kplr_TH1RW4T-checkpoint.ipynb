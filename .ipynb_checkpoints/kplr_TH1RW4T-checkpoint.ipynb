{
 "cells": [
  {
   "cell_type": "code",
   "execution_count": 1,
   "id": "4917ded0-7bd6-4c17-a15d-fcf4666d8f47",
   "metadata": {},
   "outputs": [],
   "source": [
    "import numpy as np \n",
    "import pandas as pd \n",
    "import matplotlib.pyplot as plt \n",
    "from astropy.io import fits \n",
    "from astropy.table import Table \n",
    "from matplotlib.colors import LogNorm \n",
    "from astropy.utils.data import download_file"
   ]
  },
  {
   "cell_type": "code",
   "execution_count": 2,
   "id": "f8ff6298-df3d-4b1c-b012-88878c52f090",
   "metadata": {},
   "outputs": [],
   "source": [
    "event_RW4T= '/Users/kate/Desktop/Summer work/kepler data and notebooks/kplr_anc-eng_TH1RW4T.fits'\n",
    "hdul=fits.open(event_RW4T, mmemmap=True)"
   ]
  },
  {
   "cell_type": "code",
   "execution_count": 3,
   "id": "1037ff09-5a9b-49b2-8a65-84f615dfdc0a",
   "metadata": {},
   "outputs": [
    {
     "name": "stdout",
     "output_type": "stream",
     "text": [
      "            MJD                      UTC     LC   SC   TH1RW4T\n",
      "0  54949.283051  2009-04-28T06:47:35.600  384.0  1.0  7.548307\n",
      "1  54949.283120  2009-04-28T06:47:41.600  384.0  1.0  7.548307\n",
      "2  54949.283722  2009-04-28T06:48:33.600  384.0  2.0  7.548307\n",
      "3  54949.284394  2009-04-28T06:49:31.600  384.0  3.0  7.548307\n",
      "4  54949.284486  2009-04-28T06:49:39.600  384.0  3.0  7.548307\n"
     ]
    }
   ],
   "source": [
    "table_hdu=hdul[1]\n",
    "df=pd.DataFrame(table_hdu.data)\n",
    "print(df.head())"
   ]
  },
  {
   "cell_type": "code",
   "execution_count": 4,
   "id": "ada0f196-5589-456a-b58f-e876524ab247",
   "metadata": {},
   "outputs": [
    {
     "data": {
      "text/html": [
       "<div><i>Table length=2419515</i>\n",
       "<table id=\"table4774028080\" class=\"table-striped table-bordered table-condensed\">\n",
       "<thead><tr><th>MJD</th><th>UTC</th><th>LC</th><th>SC</th><th>TH1RW4T</th></tr></thead>\n",
       "<thead><tr><th>float64</th><th>str23</th><th>float64</th><th>float64</th><th>float64</th></tr></thead>\n",
       "<tr><td>54949.283050925995</td><td>2009-04-28T06:47:35.600</td><td>384.0</td><td>1.0</td><td>7.5483072510342595</td></tr>\n",
       "<tr><td>54949.28312037</td><td>2009-04-28T06:47:41.600</td><td>384.0</td><td>1.0</td><td>7.5483072510342595</td></tr>\n",
       "<tr><td>54949.283722222004</td><td>2009-04-28T06:48:33.600</td><td>384.0</td><td>2.0</td><td>7.5483072510342595</td></tr>\n",
       "<tr><td>54949.284393519</td><td>2009-04-28T06:49:31.600</td><td>384.0</td><td>3.0</td><td>7.5483072510342595</td></tr>\n",
       "<tr><td>54949.284486111</td><td>2009-04-28T06:49:39.600</td><td>384.0</td><td>3.0</td><td>7.5483072510342595</td></tr>\n",
       "<tr><td>54949.285064722004</td><td>2009-04-28T06:50:29.592</td><td>384.0</td><td>4.0</td><td>7.5483072510342595</td></tr>\n",
       "<tr><td>54949.28573611099</td><td>2009-04-28T06:51:27.600</td><td>384.0</td><td>5.0</td><td>7.5483072510342595</td></tr>\n",
       "<tr><td>54949.285851852</td><td>2009-04-28T06:51:37.600</td><td>384.0</td><td>6.0</td><td>7.5483072510342595</td></tr>\n",
       "<tr><td>54949.286407407</td><td>2009-04-28T06:52:25.600</td><td>384.0</td><td>6.0</td><td>7.5483072510342595</td></tr>\n",
       "<tr><td>...</td><td>...</td><td>...</td><td>...</td><td>...</td></tr>\n",
       "<tr><td>56728.006693854004</td><td>2014-03-12T00:09:38.349</td><td>87433.0</td><td>2611470.0</td><td>20.74337279507017</td></tr>\n",
       "<tr><td>56728.00736515</td><td>2014-03-12T00:10:36.349</td><td>87433.0</td><td>2611471.0</td><td>20.74337279507017</td></tr>\n",
       "<tr><td>56728.008036342995</td><td>2014-03-12T00:11:34.340</td><td>87433.0</td><td>2611472.0</td><td>20.74337279507017</td></tr>\n",
       "<tr><td>56728.008707639005</td><td>2014-03-12T00:12:32.340</td><td>87433.0</td><td>2611473.0</td><td>20.74337279507017</td></tr>\n",
       "<tr><td>56728.009379039</td><td>2014-03-12T00:13:30.349</td><td>87433.0</td><td>2611474.0</td><td>20.74337279507017</td></tr>\n",
       "<tr><td>56728.01005033599</td><td>2014-03-12T00:14:28.349</td><td>87433.0</td><td>2611475.0</td><td>20.74337279507017</td></tr>\n",
       "<tr><td>56728.010721632</td><td>2014-03-12T00:15:26.349</td><td>87433.0</td><td>2611476.0</td><td>20.74337279507017</td></tr>\n",
       "<tr><td>56728.011392824</td><td>2014-03-12T00:16:24.340</td><td>87433.0</td><td>2611477.0</td><td>20.74337279507017</td></tr>\n",
       "<tr><td>56728.01206412</td><td>2014-03-12T00:17:22.340</td><td>87433.0</td><td>2611478.0</td><td>20.74337279507017</td></tr>\n",
       "<tr><td>56728.012735417</td><td>2014-03-12T00:18:20.340</td><td>87433.0</td><td>2611479.0</td><td>20.74337279507017</td></tr>\n",
       "</table></div>"
      ],
      "text/plain": [
       "<Table length=2419515>\n",
       "       MJD                   UTC              LC       SC         TH1RW4T      \n",
       "     float64                str23          float64  float64       float64      \n",
       "------------------ ----------------------- ------- --------- ------------------\n",
       "54949.283050925995 2009-04-28T06:47:35.600   384.0       1.0 7.5483072510342595\n",
       "    54949.28312037 2009-04-28T06:47:41.600   384.0       1.0 7.5483072510342595\n",
       "54949.283722222004 2009-04-28T06:48:33.600   384.0       2.0 7.5483072510342595\n",
       "   54949.284393519 2009-04-28T06:49:31.600   384.0       3.0 7.5483072510342595\n",
       "   54949.284486111 2009-04-28T06:49:39.600   384.0       3.0 7.5483072510342595\n",
       "54949.285064722004 2009-04-28T06:50:29.592   384.0       4.0 7.5483072510342595\n",
       " 54949.28573611099 2009-04-28T06:51:27.600   384.0       5.0 7.5483072510342595\n",
       "   54949.285851852 2009-04-28T06:51:37.600   384.0       6.0 7.5483072510342595\n",
       "   54949.286407407 2009-04-28T06:52:25.600   384.0       6.0 7.5483072510342595\n",
       "               ...                     ...     ...       ...                ...\n",
       "56728.006693854004 2014-03-12T00:09:38.349 87433.0 2611470.0  20.74337279507017\n",
       "    56728.00736515 2014-03-12T00:10:36.349 87433.0 2611471.0  20.74337279507017\n",
       "56728.008036342995 2014-03-12T00:11:34.340 87433.0 2611472.0  20.74337279507017\n",
       "56728.008707639005 2014-03-12T00:12:32.340 87433.0 2611473.0  20.74337279507017\n",
       "   56728.009379039 2014-03-12T00:13:30.349 87433.0 2611474.0  20.74337279507017\n",
       " 56728.01005033599 2014-03-12T00:14:28.349 87433.0 2611475.0  20.74337279507017\n",
       "   56728.010721632 2014-03-12T00:15:26.349 87433.0 2611476.0  20.74337279507017\n",
       "   56728.011392824 2014-03-12T00:16:24.340 87433.0 2611477.0  20.74337279507017\n",
       "    56728.01206412 2014-03-12T00:17:22.340 87433.0 2611478.0  20.74337279507017\n",
       "   56728.012735417 2014-03-12T00:18:20.340 87433.0 2611479.0  20.74337279507017"
      ]
     },
     "execution_count": 4,
     "metadata": {},
     "output_type": "execute_result"
    }
   ],
   "source": [
    "evt_data=Table(hdul[1].data)\n",
    "evt_data"
   ]
  },
  {
   "cell_type": "code",
   "execution_count": 5,
   "id": "203514ae-9f95-4fc3-8088-66cd41aabbff",
   "metadata": {},
   "outputs": [],
   "source": [
    "from astropy.timeseries import LombScargle"
   ]
  },
  {
   "cell_type": "code",
   "execution_count": 6,
   "id": "89d46dfe-6939-4435-8be2-b29aa2bca597",
   "metadata": {},
   "outputs": [],
   "source": [
    "import datetime\n",
    "from datetime import datetime"
   ]
  },
  {
   "cell_type": "code",
   "execution_count": 7,
   "id": "07dcb533-e189-457d-8720-22bc0ed4d766",
   "metadata": {},
   "outputs": [],
   "source": [
    "df['UTC']=pd.to_datetime(df['UTC'])"
   ]
  },
  {
   "cell_type": "code",
   "execution_count": 8,
   "id": "664c66dd-3af8-49aa-a206-4270e1d417c6",
   "metadata": {},
   "outputs": [
    {
     "name": "stdout",
     "output_type": "stream",
     "text": [
      "                  MJD                     UTC       LC         SC    TH1RW4T\n",
      "0        54949.283051 2009-04-28 06:47:35.600    384.0        1.0   7.548307\n",
      "1        54949.283120 2009-04-28 06:47:41.600    384.0        1.0   7.548307\n",
      "2        54949.283722 2009-04-28 06:48:33.600    384.0        2.0   7.548307\n",
      "3        54949.284394 2009-04-28 06:49:31.600    384.0        3.0   7.548307\n",
      "4        54949.284486 2009-04-28 06:49:39.600    384.0        3.0   7.548307\n",
      "...               ...                     ...      ...        ...        ...\n",
      "2419510  56728.010050 2014-03-12 00:14:28.349  87433.0  2611475.0  20.743373\n",
      "2419511  56728.010722 2014-03-12 00:15:26.349  87433.0  2611476.0  20.743373\n",
      "2419512  56728.011393 2014-03-12 00:16:24.340  87433.0  2611477.0  20.743373\n",
      "2419513  56728.012064 2014-03-12 00:17:22.340  87433.0  2611478.0  20.743373\n",
      "2419514  56728.012735 2014-03-12 00:18:20.340  87433.0  2611479.0  20.743373\n",
      "\n",
      "[2419515 rows x 5 columns]\n"
     ]
    }
   ],
   "source": [
    "print(df)"
   ]
  },
  {
   "cell_type": "code",
   "execution_count": 9,
   "id": "ca13d27c-5add-42d8-90ba-66ba3af35274",
   "metadata": {},
   "outputs": [
    {
     "name": "stdout",
     "output_type": "stream",
     "text": [
      "<class 'pandas.core.frame.DataFrame'>\n",
      "RangeIndex: 2419515 entries, 0 to 2419514\n",
      "Data columns (total 5 columns):\n",
      " #   Column   Dtype         \n",
      "---  ------   -----         \n",
      " 0   MJD      float64       \n",
      " 1   UTC      datetime64[ns]\n",
      " 2   LC       float64       \n",
      " 3   SC       float64       \n",
      " 4   TH1RW4T  float64       \n",
      "dtypes: datetime64[ns](1), float64(4)\n",
      "memory usage: 92.3 MB\n"
     ]
    }
   ],
   "source": [
    "df.info()"
   ]
  },
  {
   "cell_type": "code",
   "execution_count": 10,
   "id": "6aa2be86-43c8-4ea1-adc6-ec218ee1ea46",
   "metadata": {},
   "outputs": [],
   "source": [
    "full_2010 = df[df['UTC'].dt.year == 2010]"
   ]
  },
  {
   "cell_type": "code",
   "execution_count": 11,
   "id": "1ebb1077-b0fc-4150-8fe3-9d3448106490",
   "metadata": {},
   "outputs": [
    {
     "name": "stdout",
     "output_type": "stream",
     "text": [
      "                 MJD                     UTC       LC        SC    TH1RW4T\n",
      "403024  55197.000229 2010-01-01 00:00:19.812  12507.0  363692.0  17.524428\n",
      "403025  55197.000901 2010-01-01 00:01:17.812  12507.0  363693.0  17.524428\n",
      "403026  55197.001572 2010-01-01 00:02:15.812  12507.0  363694.0  17.524428\n",
      "403027  55197.002243 2010-01-01 00:03:13.812  12507.0  363695.0  17.524428\n",
      "403028  55197.002914 2010-01-01 00:04:11.812  12507.0  363696.0  17.524428\n",
      "...              ...                     ...      ...       ...        ...\n",
      "962599  55561.996869 2010-12-31 23:55:29.518  30370.0  899570.0  20.743373\n",
      "962600  55561.997541 2010-12-31 23:56:27.518  30370.0  899571.0  20.743373\n",
      "962601  55561.998212 2010-12-31 23:57:25.518  30370.0  899572.0  20.743373\n",
      "962602  55561.998883 2010-12-31 23:58:23.518  30370.0  899573.0  20.743373\n",
      "962603  55561.999555 2010-12-31 23:59:21.518  30370.0  899574.0  20.743373\n",
      "\n",
      "[559580 rows x 5 columns]\n"
     ]
    }
   ],
   "source": [
    "print(full_2010)"
   ]
  },
  {
   "cell_type": "code",
   "execution_count": 12,
   "id": "da369156-8197-4ee7-bb43-d6a863e1b42b",
   "metadata": {},
   "outputs": [],
   "source": [
    "time = full_2010['MJD']*86400"
   ]
  },
  {
   "cell_type": "code",
   "execution_count": 13,
   "id": "9fe7cc10-7577-410e-9fdf-94829d367b3e",
   "metadata": {},
   "outputs": [],
   "source": [
    "y = full_2010['TH1RW4T']"
   ]
  },
  {
   "cell_type": "code",
   "execution_count": 14,
   "id": "4a59a3b4-c92b-4b2c-94fa-b8425a73622b",
   "metadata": {},
   "outputs": [],
   "source": [
    "frequency, power = LombScargle(time, y).autopower()"
   ]
  },
  {
   "cell_type": "code",
   "execution_count": 16,
   "id": "dfcff45a-b749-45eb-8440-375367c71691",
   "metadata": {},
   "outputs": [
    {
     "data": {
      "image/png": "[encoded data removed]",
      "text/plain": [
       "<Figure size 640x480 with 1 Axes>"
      ]
     },
     "metadata": {},
     "output_type": "display_data"
    }
   ],
   "source": [
    "plt.plot(frequency, power)\n",
    "plt.xscale('log')\n",
    "plt.yscale('log')\n",
    "plt.xlabel('Frequency (Hz)')\n",
    "plt.ylabel('Power')\n",
    "plt.title('TH1RW4T All 2010 Lomb-Scargle Periodogram')\n",
    "plt.show()"
   ]
  },
  {
   "cell_type": "code",
   "execution_count": null,
   "id": "341963e1-9b13-43e6-8135-9fb4b9fc15e4",
   "metadata": {},
   "outputs": [],
   "source": []
  }
 ],
 "metadata": {
  "kernelspec": {
   "display_name": "Python 3 (ipykernel)",
   "language": "python",
   "name": "python3"
  },
  "language_info": {
   "codemirror_mode": {
    "name": "ipython",
    "version": 3
   },
   "file_extension": ".py",
   "mimetype": "text/x-python",
   "name": "python",
   "nbconvert_exporter": "python",
   "pygments_lexer": "ipython3",
   "version": "3.12.3"
  }
 },
 "nbformat": 4,
 "nbformat_minor": 5
}
