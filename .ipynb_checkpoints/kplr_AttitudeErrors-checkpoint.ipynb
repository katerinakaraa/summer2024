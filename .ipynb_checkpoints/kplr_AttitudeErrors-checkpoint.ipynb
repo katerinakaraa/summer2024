{
 "cells": [
  {
   "cell_type": "code",
   "execution_count": 57,
   "id": "18ee9610-3eeb-4b7c-8c1e-3d6b60512cc1",
   "metadata": {},
   "outputs": [],
   "source": [
    "import numpy as np \n",
    "import pandas as pd \n",
    "import matplotlib.pyplot as plt \n",
    "from astropy.io import fits \n",
    "from astropy.table import Table \n",
    "from matplotlib.colors import LogNorm \n",
    "from astropy.utils.data import download_file"
   ]
  },
  {
   "cell_type": "code",
   "execution_count": 58,
   "id": "a72fa675-108b-4cda-9872-5dc15e2d6847",
   "metadata": {},
   "outputs": [],
   "source": [
    "event_attitude_errors = '/Users/kate/Desktop/Summer work/kepler data and notebooks/kplr_anc-eng_AttitudeErrors.fits'"
   ]
  },
  {
   "cell_type": "code",
   "execution_count": 59,
   "id": "106886b5-7c61-47c4-a37c-b912c059b9e1",
   "metadata": {},
   "outputs": [],
   "source": [
    "hdul = fits.open(event_attitude_errors, memmap=True)"
   ]
  },
  {
   "cell_type": "code",
   "execution_count": 60,
   "id": "0d96b708-3554-422e-ad4b-509743e3df58",
   "metadata": {},
   "outputs": [
    {
     "name": "stdout",
     "output_type": "stream",
     "text": [
      "Filename: /Users/kate/Desktop/Summer work/kepler data and notebooks/kplr_anc-eng_AttitudeErrors.fits\n",
      "No.    Name      Ver    Type      Cards   Dimensions   Format\n",
      "  0  PRIMARY       1 PrimaryHDU      11   ()      \n",
      "  1                1 BinTableHDU     30   2955458R x 10C   [D, 23A, D, D, D, D, D, D, D, D]   \n"
     ]
    }
   ],
   "source": [
    "hdul.info()"
   ]
  },
  {
   "cell_type": "code",
   "execution_count": 61,
   "id": "8515bc53-c3b3-4a61-806c-69b011d15764",
   "metadata": {},
   "outputs": [],
   "source": [
    "table_hdu = hdul[1]"
   ]
  },
  {
   "cell_type": "code",
   "execution_count": 62,
   "id": "8eb01ad5-3fb8-4bb0-964e-7758d2906b4f",
   "metadata": {},
   "outputs": [],
   "source": [
    "df = pd.DataFrame(table_hdu.data)"
   ]
  },
  {
   "cell_type": "code",
   "execution_count": 63,
   "id": "dd603ee0-45b0-4260-a8b0-563a0afb00eb",
   "metadata": {},
   "outputs": [
    {
     "name": "stdout",
     "output_type": "stream",
     "text": [
      "            MJD                      UTC     LC      SC  ADATTERRMX  \\\n",
      "0  54952.905504  2009-05-01T21:43:55.540  562.0  5320.0         0.0   \n",
      "1  54952.905967  2009-05-01T21:44:35.540  562.0  5320.0         0.0   \n",
      "2  54952.906430  2009-05-01T21:45:15.540  562.0  5321.0         0.0   \n",
      "3  54952.906893  2009-05-01T21:45:55.540  562.0  5322.0         0.0   \n",
      "4  54952.907356  2009-05-01T21:46:35.540  562.0  5322.0         0.0   \n",
      "\n",
      "   ADATTERRMY  ADATTERRMZ  ADATTERRDX  ADATTERRDY  ADATTERRDZ  \n",
      "0         0.0         0.0         0.0         0.0         0.0  \n",
      "1         0.0         0.0         0.0         0.0         0.0  \n",
      "2         0.0         0.0         0.0         0.0         0.0  \n",
      "3         0.0         0.0         0.0         0.0         0.0  \n",
      "4         0.0         0.0         0.0         0.0         0.0  \n"
     ]
    }
   ],
   "source": [
    "print(df.head())"
   ]
  },
  {
   "cell_type": "code",
   "execution_count": 64,
   "id": "c2af7d5e-d6a3-462e-a86f-2693dadf0f2c",
   "metadata": {},
   "outputs": [
    {
     "name": "stdout",
     "output_type": "stream",
     "text": [
      "MJD           float64\n",
      "UTC            object\n",
      "LC            float64\n",
      "SC            float64\n",
      "ADATTERRMX    float64\n",
      "ADATTERRMY    float64\n",
      "ADATTERRMZ    float64\n",
      "ADATTERRDX    float64\n",
      "ADATTERRDY    float64\n",
      "ADATTERRDZ    float64\n",
      "dtype: object\n"
     ]
    }
   ],
   "source": [
    "print(df.dtypes)"
   ]
  },
  {
   "cell_type": "code",
   "execution_count": 65,
   "id": "edabdb86-ebe1-4cf4-8fb4-81860b265b8e",
   "metadata": {},
   "outputs": [],
   "source": [
    "timeUCT = df['UTC']\n",
    "xRotation = df['ADATTERRMX']"
   ]
  },
  {
   "cell_type": "code",
   "execution_count": 66,
   "id": "fcd7968b-e554-482f-a01a-e096f1f7f43e",
   "metadata": {},
   "outputs": [],
   "source": [
    "timeUCT_100=timeUCT[:100]\n",
    "xRotation_100=xRotation[:100]"
   ]
  },
  {
   "cell_type": "code",
   "execution_count": 67,
   "id": "880093cb-75c4-4643-a4d6-b4527b0e24bf",
   "metadata": {},
   "outputs": [
    {
     "data": {
      "image/png": "[encoded data removed]",
      "text/plain": [
       "<Figure size 640x480 with 1 Axes>"
      ]
     },
     "metadata": {},
     "output_type": "display_data"
    }
   ],
   "source": [
    "plt.plot(timeUCT_100, xRotation_100)\n",
    "plt.xlabel('Time (UTC)')\n",
    "plt.ylabel('Mean x Rotation')\n",
    "plt.title('Mean x rotation over time')\n",
    "plt.show()"
   ]
  },
  {
   "cell_type": "code",
   "execution_count": 68,
   "id": "f9c03902-042a-4596-964a-fcf359b9f146",
   "metadata": {},
   "outputs": [
    {
     "name": "stdout",
     "output_type": "stream",
     "text": [
      "                  MJD                      UTC       LC         SC  \\\n",
      "2955453  56424.204110  2013-05-12T04:53:55.090  72565.0  2165437.0   \n",
      "2955454  56424.204573  2013-05-12T04:54:35.090  72565.0  2165437.0   \n",
      "2955455  56424.205036  2013-05-12T04:55:15.090  72565.0  2165438.0   \n",
      "2955456  56424.205499  2013-05-12T04:55:55.090  72565.0  2165439.0   \n",
      "2955457  56424.205962  2013-05-12T04:56:35.090  72565.0  2165439.0   \n",
      "\n",
      "         ADATTERRMX  ADATTERRMY  ADATTERRMZ  ADATTERRDX  ADATTERRDY  \\\n",
      "2955453    0.000007    0.000002   -0.000003    0.000009    0.000002   \n",
      "2955454    0.000007    0.000002   -0.000003    0.000009    0.000002   \n",
      "2955455    0.000007    0.000002   -0.000003    0.000009    0.000002   \n",
      "2955456    0.000007    0.000002   -0.000003    0.000009    0.000002   \n",
      "2955457    0.000007    0.000002   -0.000003    0.000009    0.000002   \n",
      "\n",
      "         ADATTERRDZ  \n",
      "2955453    0.000004  \n",
      "2955454    0.000004  \n",
      "2955455    0.000004  \n",
      "2955456    0.000004  \n",
      "2955457    0.000004  \n"
     ]
    }
   ],
   "source": [
    "print(df.tail())"
   ]
  },
  {
   "cell_type": "code",
   "execution_count": 69,
   "id": "de76dccb-df74-4ec7-a4c6-337a4913f49f",
   "metadata": {},
   "outputs": [],
   "source": [
    "long= df['LC']"
   ]
  },
  {
   "cell_type": "code",
   "execution_count": 75,
   "id": "133af30a-ac65-4fad-8768-3ad762dfbe3d",
   "metadata": {},
   "outputs": [],
   "source": [
    "tenth = df.iloc[::10]"
   ]
  },
  {
   "cell_type": "code",
   "execution_count": 87,
   "id": "cc8745fe-1076-4cd0-897e-b124e9ea1163",
   "metadata": {},
   "outputs": [],
   "source": [
    "evt_data = Table(hdul[1].data)"
   ]
  },
  {
   "cell_type": "code",
   "execution_count": 89,
   "id": "df8d9bd6-40c1-489d-9497-a32cd90c562d",
   "metadata": {},
   "outputs": [
    {
     "data": {
      "text/html": [
       "<div><i>Table length=2955458</i>\n",
       "<table id=\"table140527590005712\" class=\"table-striped table-bordered table-condensed\">\n",
       "<thead><tr><th>MJD</th><th>UTC</th><th>LC</th><th>SC</th><th>ADATTERRMX</th><th>ADATTERRMY</th><th>ADATTERRMZ</th><th>ADATTERRDX</th><th>ADATTERRDY</th><th>ADATTERRDZ</th></tr></thead>\n",
       "<thead><tr><th>float64</th><th>str23</th><th>float64</th><th>float64</th><th>float64</th><th>float64</th><th>float64</th><th>float64</th><th>float64</th><th>float64</th></tr></thead>\n",
       "<tr><td>54952.905503935</td><td>2009-05-01T21:43:55.540</td><td>562.0</td><td>5320.0</td><td>0.0</td><td>0.0</td><td>0.0</td><td>0.0</td><td>0.0</td><td>0.0</td></tr>\n",
       "<tr><td>54952.905966898</td><td>2009-05-01T21:44:35.540</td><td>562.0</td><td>5320.0</td><td>0.0</td><td>0.0</td><td>0.0</td><td>0.0</td><td>0.0</td><td>0.0</td></tr>\n",
       "<tr><td>54952.906429860996</td><td>2009-05-01T21:45:15.540</td><td>562.0</td><td>5321.0</td><td>0.0</td><td>0.0</td><td>0.0</td><td>0.0</td><td>0.0</td><td>0.0</td></tr>\n",
       "<tr><td>54952.906892824</td><td>2009-05-01T21:45:55.540</td><td>562.0</td><td>5322.0</td><td>0.0</td><td>0.0</td><td>0.0</td><td>0.0</td><td>0.0</td><td>0.0</td></tr>\n",
       "<tr><td>54952.907355787</td><td>2009-05-01T21:46:35.540</td><td>562.0</td><td>5322.0</td><td>0.0</td><td>0.0</td><td>0.0</td><td>0.0</td><td>0.0</td><td>0.0</td></tr>\n",
       "<tr><td>54952.90781875</td><td>2009-05-01T21:47:15.540</td><td>562.0</td><td>5323.0</td><td>0.0</td><td>0.0</td><td>0.0</td><td>0.0</td><td>0.0</td><td>0.0</td></tr>\n",
       "<tr><td>...</td><td>...</td><td>...</td><td>...</td><td>...</td><td>...</td><td>...</td><td>...</td><td>...</td><td>...</td></tr>\n",
       "<tr><td>56424.203646875</td><td>2013-05-12T04:53:15.090</td><td>72565.0</td><td>2165436.0</td><td>7.2167558621813e-06</td><td>1.5741952057988998e-06</td><td>-3.4888021644265e-06</td><td>9.1646333258762e-06</td><td>1.9772431778001e-06</td><td>4.3806262076943e-06</td></tr>\n",
       "<tr><td>56424.203796142</td><td>2013-05-12T04:53:27.987</td><td>72565.0</td><td>2165436.0</td><td>7.2167558621813e-06</td><td>1.5741952057988998e-06</td><td>-3.4888021644265e-06</td><td>9.1646333258762e-06</td><td>1.9772431778001e-06</td><td>4.3806262076943e-06</td></tr>\n",
       "<tr><td>56424.204109838</td><td>2013-05-12T04:53:55.090</td><td>72565.0</td><td>2165437.0</td><td>7.2167558621813e-06</td><td>1.5741952057988998e-06</td><td>-3.4888021644265e-06</td><td>9.1646333258762e-06</td><td>1.9772431778001e-06</td><td>4.3806262076943e-06</td></tr>\n",
       "<tr><td>56424.204572801</td><td>2013-05-12T04:54:35.090</td><td>72565.0</td><td>2165437.0</td><td>7.2167558621813e-06</td><td>1.5741952057988998e-06</td><td>-3.4888021644265e-06</td><td>9.1646333258762e-06</td><td>1.9772431778001e-06</td><td>4.3806262076943e-06</td></tr>\n",
       "<tr><td>56424.205035764004</td><td>2013-05-12T04:55:15.090</td><td>72565.0</td><td>2165438.0</td><td>7.2167558621813e-06</td><td>1.5741952057988998e-06</td><td>-3.4888021644265e-06</td><td>9.1646333258762e-06</td><td>1.9772431778001e-06</td><td>4.3806262076943e-06</td></tr>\n",
       "<tr><td>56424.205498727</td><td>2013-05-12T04:55:55.090</td><td>72565.0</td><td>2165439.0</td><td>7.2167558621813e-06</td><td>1.5741952057988998e-06</td><td>-3.4888021644265e-06</td><td>9.1646333258762e-06</td><td>1.9772431778001e-06</td><td>4.3806262076943e-06</td></tr>\n",
       "<tr><td>56424.20596169</td><td>2013-05-12T04:56:35.090</td><td>72565.0</td><td>2165439.0</td><td>7.2167558621813e-06</td><td>1.5741952057988998e-06</td><td>-3.4888021644265e-06</td><td>9.1646333258762e-06</td><td>1.9772431778001e-06</td><td>4.3806262076943e-06</td></tr>\n",
       "</table></div>"
      ],
      "text/plain": [
       "<Table length=2955458>\n",
       "       MJD                   UTC           ...      ADATTERRDZ    \n",
       "     float64                str23          ...       float64      \n",
       "------------------ ----------------------- ... -------------------\n",
       "   54952.905503935 2009-05-01T21:43:55.540 ...                 0.0\n",
       "   54952.905966898 2009-05-01T21:44:35.540 ...                 0.0\n",
       "54952.906429860996 2009-05-01T21:45:15.540 ...                 0.0\n",
       "   54952.906892824 2009-05-01T21:45:55.540 ...                 0.0\n",
       "   54952.907355787 2009-05-01T21:46:35.540 ...                 0.0\n",
       "    54952.90781875 2009-05-01T21:47:15.540 ...                 0.0\n",
       "               ...                     ... ...                 ...\n",
       "   56424.203646875 2013-05-12T04:53:15.090 ... 4.3806262076943e-06\n",
       "   56424.203796142 2013-05-12T04:53:27.987 ... 4.3806262076943e-06\n",
       "   56424.204109838 2013-05-12T04:53:55.090 ... 4.3806262076943e-06\n",
       "   56424.204572801 2013-05-12T04:54:35.090 ... 4.3806262076943e-06\n",
       "56424.205035764004 2013-05-12T04:55:15.090 ... 4.3806262076943e-06\n",
       "   56424.205498727 2013-05-12T04:55:55.090 ... 4.3806262076943e-06\n",
       "    56424.20596169 2013-05-12T04:56:35.090 ... 4.3806262076943e-06"
      ]
     },
     "execution_count": 89,
     "metadata": {},
     "output_type": "execute_result"
    }
   ],
   "source": [
    "evt_data"
   ]
  },
  {
   "cell_type": "code",
   "execution_count": 91,
   "id": "7eeb213d-6839-4d8b-9af2-a00d963df971",
   "metadata": {},
   "outputs": [],
   "source": [
    "hdul.close()"
   ]
  },
  {
   "cell_type": "code",
   "execution_count": null,
   "id": "8579860d-79b7-46c1-a346-fbbc9a834560",
   "metadata": {},
   "outputs": [],
   "source": []
  }
 ],
 "metadata": {
  "kernelspec": {
   "display_name": "Python 3 (ipykernel)",
   "language": "python",
   "name": "python3"
  },
  "language_info": {
   "codemirror_mode": {
    "name": "ipython",
    "version": 3
   },
   "file_extension": ".py",
   "mimetype": "text/x-python",
   "name": "python",
   "nbconvert_exporter": "python",
   "pygments_lexer": "ipython3",
   "version": "3.12.3"
  }
 },
 "nbformat": 4,
 "nbformat_minor": 5
}
