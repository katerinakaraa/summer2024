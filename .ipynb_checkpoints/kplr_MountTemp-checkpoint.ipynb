{
 "cells": [
  {
   "cell_type": "code",
   "execution_count": 5,
   "id": "3559f9bb-adfe-4729-a0da-44b1adf6a3fd",
   "metadata": {},
   "outputs": [],
   "source": [
    "event_mount_temp= '/Users/kate/Desktop/Summer work/kepler data and notebooks/kplr_anc-eng_MountTemperature.fits'"
   ]
  },
  {
   "cell_type": "code",
   "execution_count": 6,
   "id": "39a616ed-2eff-47cb-b36a-ad2b03e6915a",
   "metadata": {},
   "outputs": [],
   "source": [
    "import numpy as np \n",
    "import pandas as pd \n",
    "import matplotlib.pyplot as plt \n",
    "from astropy.io import fits \n",
    "from astropy.table import Table \n",
    "from matplotlib.colors import LogNorm \n",
    "from astropy.utils.data import download_file"
   ]
  },
  {
   "cell_type": "code",
   "execution_count": 7,
   "id": "42b2b04c-5a1e-492e-9202-54ae840446fe",
   "metadata": {},
   "outputs": [],
   "source": [
    "hdul=fits.open(event_mount_temp, mmemmap=True)"
   ]
  },
  {
   "cell_type": "code",
   "execution_count": 8,
   "id": "bfc7cf0a-75ad-4c87-8d0c-d0d09eaf7888",
   "metadata": {},
   "outputs": [
    {
     "name": "stdout",
     "output_type": "stream",
     "text": [
      "Filename: /Users/kate/Desktop/Summer work/kepler data and notebooks/kplr_anc-eng_MountTemperature.fits\n",
      "No.    Name      Ver    Type      Cards   Dimensions   Format\n",
      "  0  PRIMARY       1 PrimaryHDU      11   ()      \n",
      "  1                1 BinTableHDU     20   3360754R x 5C   [D, 23A, D, D, D]   \n"
     ]
    }
   ],
   "source": [
    "hdul.info()"
   ]
  },
  {
   "cell_type": "code",
   "execution_count": 9,
   "id": "6ee6924b-35b1-43d3-9acf-23a16894e3a1",
   "metadata": {},
   "outputs": [
    {
     "name": "stdout",
     "output_type": "stream",
     "text": [
      "            MJD                      UTC     LC      SC  PEDTELMNTT1\n",
      "0  54952.905681  2009-05-01T21:44:10.810  562.0  5320.0   -20.072935\n",
      "1  54952.906372  2009-05-01T21:45:10.547  562.0  5321.0   -20.072935\n",
      "2  54952.907064  2009-05-01T21:46:10.290  562.0  5322.0   -20.072935\n",
      "3  54952.907755  2009-05-01T21:47:10.060  562.0  5323.0   -20.072935\n",
      "4  54952.908447  2009-05-01T21:48:09.810  562.0  5324.0   -20.072935\n"
     ]
    }
   ],
   "source": [
    "table_hdu = hdul[1]\n",
    "df = pd.DataFrame(table_hdu.data)\n",
    "print(df.head())"
   ]
  },
  {
   "cell_type": "code",
   "execution_count": 10,
   "id": "3401a101-3cc1-45ff-bfe0-0778e49e0445",
   "metadata": {},
   "outputs": [
    {
     "data": {
      "text/html": [
       "<div><i>Table length=3360754</i>\n",
       "<table id=\"table4961884720\" class=\"table-striped table-bordered table-condensed\">\n",
       "<thead><tr><th>MJD</th><th>UTC</th><th>LC</th><th>SC</th><th>PEDTELMNTT1</th></tr></thead>\n",
       "<thead><tr><th>float64</th><th>str23</th><th>float64</th><th>float64</th><th>float64</th></tr></thead>\n",
       "<tr><td>54952.905680671</td><td>2009-05-01T21:44:10.810</td><td>562.0</td><td>5320.0</td><td>-20.072935195145</td></tr>\n",
       "<tr><td>54952.906372068</td><td>2009-05-01T21:45:10.547</td><td>562.0</td><td>5321.0</td><td>-20.072935195145</td></tr>\n",
       "<tr><td>54952.907063542</td><td>2009-05-01T21:46:10.290</td><td>562.0</td><td>5322.0</td><td>-20.072935195145</td></tr>\n",
       "<tr><td>54952.907755324006</td><td>2009-05-01T21:47:10.060</td><td>562.0</td><td>5323.0</td><td>-20.072935195145</td></tr>\n",
       "<tr><td>54952.908446875</td><td>2009-05-01T21:48:09.810</td><td>562.0</td><td>5324.0</td><td>-20.072935195145</td></tr>\n",
       "<tr><td>54952.909138272</td><td>2009-05-01T21:49:09.547</td><td>562.0</td><td>5325.0</td><td>-20.072935195145</td></tr>\n",
       "<tr><td>54952.90982974599</td><td>2009-05-01T21:50:09.290</td><td>562.0</td><td>5326.0</td><td>-20.014642283834</td></tr>\n",
       "<tr><td>54952.910521142</td><td>2009-05-01T21:51:09.027</td><td>562.0</td><td>5327.0</td><td>-20.014642283834</td></tr>\n",
       "<tr><td>54952.911213079</td><td>2009-05-01T21:52:08.810</td><td>562.0</td><td>5328.0</td><td>-20.072935195145</td></tr>\n",
       "<tr><td>...</td><td>...</td><td>...</td><td>...</td><td>...</td></tr>\n",
       "<tr><td>56424.20098271599</td><td>2013-05-12T04:49:24.907</td><td>72565.0</td><td>2165432.0</td><td>-19.373336607735</td></tr>\n",
       "<tr><td>56424.201674305</td><td>2013-05-12T04:50:24.660</td><td>72565.0</td><td>2165433.0</td><td>-19.373336607735</td></tr>\n",
       "<tr><td>56424.202365702</td><td>2013-05-12T04:51:24.397</td><td>72565.0</td><td>2165434.0</td><td>-19.373336607735</td></tr>\n",
       "<tr><td>56424.202658102</td><td>2013-05-12T04:51:49.660</td><td>72565.0</td><td>2165434.0</td><td>-19.373336607735</td></tr>\n",
       "<tr><td>56424.203057022</td><td>2013-05-12T04:52:24.127</td><td>72565.0</td><td>2165435.0</td><td>-19.373336607735</td></tr>\n",
       "<tr><td>56424.203748804</td><td>2013-05-12T04:53:23.897</td><td>72565.0</td><td>2165436.0</td><td>-19.373336607735</td></tr>\n",
       "<tr><td>56424.204440470996</td><td>2013-05-12T04:54:23.657</td><td>72565.0</td><td>2165437.0</td><td>-19.373336607735</td></tr>\n",
       "<tr><td>56424.205131906</td><td>2013-05-12T04:55:23.397</td><td>72565.0</td><td>2165438.0</td><td>-19.373336607735</td></tr>\n",
       "<tr><td>56424.205432832</td><td>2013-05-12T04:55:49.397</td><td>72565.0</td><td>2165439.0</td><td>-19.373336607735</td></tr>\n",
       "<tr><td>56424.205823457</td><td>2013-05-12T04:56:23.147</td><td>72565.0</td><td>2165439.0</td><td>-19.373336607735</td></tr>\n",
       "</table></div>"
      ],
      "text/plain": [
       "<Table length=3360754>\n",
       "       MJD                   UTC              LC       SC      PEDTELMNTT1   \n",
       "     float64                str23          float64  float64      float64     \n",
       "------------------ ----------------------- ------- --------- ----------------\n",
       "   54952.905680671 2009-05-01T21:44:10.810   562.0    5320.0 -20.072935195145\n",
       "   54952.906372068 2009-05-01T21:45:10.547   562.0    5321.0 -20.072935195145\n",
       "   54952.907063542 2009-05-01T21:46:10.290   562.0    5322.0 -20.072935195145\n",
       "54952.907755324006 2009-05-01T21:47:10.060   562.0    5323.0 -20.072935195145\n",
       "   54952.908446875 2009-05-01T21:48:09.810   562.0    5324.0 -20.072935195145\n",
       "   54952.909138272 2009-05-01T21:49:09.547   562.0    5325.0 -20.072935195145\n",
       " 54952.90982974599 2009-05-01T21:50:09.290   562.0    5326.0 -20.014642283834\n",
       "   54952.910521142 2009-05-01T21:51:09.027   562.0    5327.0 -20.014642283834\n",
       "   54952.911213079 2009-05-01T21:52:08.810   562.0    5328.0 -20.072935195145\n",
       "               ...                     ...     ...       ...              ...\n",
       " 56424.20098271599 2013-05-12T04:49:24.907 72565.0 2165432.0 -19.373336607735\n",
       "   56424.201674305 2013-05-12T04:50:24.660 72565.0 2165433.0 -19.373336607735\n",
       "   56424.202365702 2013-05-12T04:51:24.397 72565.0 2165434.0 -19.373336607735\n",
       "   56424.202658102 2013-05-12T04:51:49.660 72565.0 2165434.0 -19.373336607735\n",
       "   56424.203057022 2013-05-12T04:52:24.127 72565.0 2165435.0 -19.373336607735\n",
       "   56424.203748804 2013-05-12T04:53:23.897 72565.0 2165436.0 -19.373336607735\n",
       "56424.204440470996 2013-05-12T04:54:23.657 72565.0 2165437.0 -19.373336607735\n",
       "   56424.205131906 2013-05-12T04:55:23.397 72565.0 2165438.0 -19.373336607735\n",
       "   56424.205432832 2013-05-12T04:55:49.397 72565.0 2165439.0 -19.373336607735\n",
       "   56424.205823457 2013-05-12T04:56:23.147 72565.0 2165439.0 -19.373336607735"
      ]
     },
     "execution_count": 10,
     "metadata": {},
     "output_type": "execute_result"
    }
   ],
   "source": [
    "evt_data = Table(hdul[1].data)\n",
    "evt_data"
   ]
  },
  {
   "cell_type": "code",
   "execution_count": 11,
   "id": "6b0e7c80-34b3-46da-95f7-f791dd756c0a",
   "metadata": {},
   "outputs": [],
   "source": [
    "hdul.close()"
   ]
  },
  {
   "cell_type": "code",
   "execution_count": null,
   "id": "a749eb3c-e89a-44a8-9020-84a3eb74eb5b",
   "metadata": {},
   "outputs": [],
   "source": []
  }
 ],
 "metadata": {
  "kernelspec": {
   "display_name": "Python 3 (ipykernel)",
   "language": "python",
   "name": "python3"
  },
  "language_info": {
   "codemirror_mode": {
    "name": "ipython",
    "version": 3
   },
   "file_extension": ".py",
   "mimetype": "text/x-python",
   "name": "python",
   "nbconvert_exporter": "python",
   "pygments_lexer": "ipython3",
   "version": "3.12.3"
  }
 },
 "nbformat": 4,
 "nbformat_minor": 5
}
